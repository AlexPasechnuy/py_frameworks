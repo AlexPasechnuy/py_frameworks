{
 "cells": [
  {
   "cell_type": "code",
   "execution_count": 22,
   "metadata": {
    "scrolled": false
   },
   "outputs": [
    {
     "name": "stdout",
     "output_type": "stream",
     "text": [
      "Enter n: 5\n",
      "[[1 0 0 0 0]\n",
      " [0 2 0 0 0]\n",
      " [0 0 3 0 0]\n",
      " [0 0 0 4 0]\n",
      " [0 0 0 0 5]]\n"
     ]
    }
   ],
   "source": [
    "import numpy as np\n",
    "try:\n",
    "    n = int(input(\"Enter n: \"))\n",
    "    diag = np.arange(1,n+1,1)\n",
    "    print(np.diag(diag))\n",
    "except:\n",
    "    print(\"Error\")"
   ]
  },
  {
   "cell_type": "code",
   "execution_count": 31,
   "metadata": {},
   "outputs": [
    {
     "name": "stdout",
     "output_type": "stream",
     "text": [
      "Enter n: 6\n",
      "[[0 1 0 1 0 1]\n",
      " [1 0 1 0 1 0]\n",
      " [0 1 0 1 0 1]\n",
      " [1 0 1 0 1 0]\n",
      " [0 1 0 1 0 1]\n",
      " [1 0 1 0 1 0]]\n"
     ]
    }
   ],
   "source": [
    "n = int(input(\"Enter n: \"))\n",
    "arr = np.zeros((n,n), dtype=int)\n",
    "arr[1::2,::2] = 1\n",
    "arr[::2,1::2] = 1\n",
    "print(arr)"
   ]
  },
  {
   "cell_type": "code",
   "execution_count": 40,
   "metadata": {},
   "outputs": [
    {
     "name": "stdout",
     "output_type": "stream",
     "text": [
      "6 7 2 3\n",
      "[[0 0 0 0 0 0 0]\n",
      " [0 1 1 0 1 1 0]\n",
      " [0 0 0 0 0 0 0]\n",
      " [0 1 1 0 1 1 0]\n",
      " [0 0 0 0 0 0 0]\n",
      " [0 1 1 0 1 1 0]]\n"
     ]
    }
   ],
   "source": [
    "n,m,r,c = input().split()\n",
    "arr = np.ones((int(n), int(m)), dtype=int)\n",
    "arr[::int(r),::]=0\n",
    "arr[::,::int(c)]=0\n",
    "print(arr)"
   ]
  },
  {
   "cell_type": "code",
   "execution_count": 46,
   "metadata": {
    "scrolled": true
   },
   "outputs": [
    {
     "name": "stdout",
     "output_type": "stream",
     "text": [
      "3 4\n",
      "[[0 1 2]\n",
      " [0 0 0]\n",
      " [0 0 0]\n",
      " [0 0 0]]\n"
     ]
    }
   ],
   "source": [
    "n, m = input().split()\n",
    "arr = np.zeros((int(m), int(n)), dtype=int)\n",
    "arr[0] = np.arange(int(n))\n",
    "print(arr)"
   ]
  },
  {
   "cell_type": "code",
   "execution_count": 53,
   "metadata": {},
   "outputs": [
    {
     "name": "stdout",
     "output_type": "stream",
     "text": [
      "1 2 3 0 4 5 6 0 7 8 9 0\n"
     ]
    },
    {
     "data": {
      "text/plain": [
       "array([-1, -1, -1,  0, -1, -1, -1,  0, -1, -1, -1,  0])"
      ]
     },
     "execution_count": 53,
     "metadata": {},
     "output_type": "execute_result"
    }
   ],
   "source": [
    "arr = np.array(input().split(), dtype=int)\n",
    "arr[arr!=0]=-1\n",
    "arr"
   ]
  },
  {
   "cell_type": "code",
   "execution_count": 63,
   "metadata": {},
   "outputs": [
    {
     "name": "stdout",
     "output_type": "stream",
     "text": [
      "1 2 3 4 0 0\n",
      "Number of zeros:  2\n",
      "Number of non-zeros:  4\n"
     ]
    }
   ],
   "source": [
    "arr = np.array(input().split(), dtype=int)\n",
    "print(\"Number of zeros: \", len(arr[arr==0]))\n",
    "print(\"Number of non-zeros: \", len(arr[arr!=0]))"
   ]
  },
  {
   "cell_type": "code",
   "execution_count": 67,
   "metadata": {},
   "outputs": [
    {
     "name": "stdout",
     "output_type": "stream",
     "text": [
      "Enter n: 4\n"
     ]
    },
    {
     "data": {
      "text/plain": [
       "array([[0, 0, 0, 0, 0, 0],\n",
       "       [0, 1, 1, 1, 1, 0],\n",
       "       [0, 1, 1, 1, 1, 0],\n",
       "       [0, 1, 1, 1, 1, 0],\n",
       "       [0, 1, 1, 1, 1, 0],\n",
       "       [0, 0, 0, 0, 0, 0]])"
      ]
     },
     "execution_count": 67,
     "metadata": {},
     "output_type": "execute_result"
    }
   ],
   "source": [
    "n = int(input(\"Enter n: \"))\n",
    "arr = np.ones((n+2, n+2), dtype=int)\n",
    "arr[::, ::n+1]=0\n",
    "arr[::n+1, ::] = 0\n",
    "arr"
   ]
  },
  {
   "cell_type": "code",
   "execution_count": 75,
   "metadata": {},
   "outputs": [
    {
     "name": "stdout",
     "output_type": "stream",
     "text": [
      "Enter n: 10\n"
     ]
    },
    {
     "data": {
      "text/plain": [
       "array([0.091, 0.182, 0.273, 0.364, 0.455, 0.545, 0.636, 0.727, 0.818,\n",
       "       0.909])"
      ]
     },
     "execution_count": 75,
     "metadata": {},
     "output_type": "execute_result"
    }
   ],
   "source": [
    "n = int(input(\"Enter n: \"))\n",
    "np.around(np.linspace(0, 1, n+2, dtype=float),3)[1:-1:]"
   ]
  },
  {
   "cell_type": "code",
   "execution_count": 88,
   "metadata": {},
   "outputs": [
    {
     "name": "stdout",
     "output_type": "stream",
     "text": [
      "Enter n: 5\n",
      "initial vector:  [0.835 0.596 0.189 0.634 0.64 ]\n",
      "Modified vector:  [-0.835  0.596  0.189  0.634  0.64 ]\n"
     ]
    }
   ],
   "source": [
    "n = int(input(\"Enter n: \"))\n",
    "arr = np.around(np.random.random(n),3)\n",
    "print(\"initial vector: \",arr)\n",
    "arr[arr == np.max(arr)] = 0\n",
    "print(\"Modified vector: \", arr)"
   ]
  },
  {
   "cell_type": "code",
   "execution_count": 90,
   "metadata": {
    "scrolled": true
   },
   "outputs": [
    {
     "name": "stdout",
     "output_type": "stream",
     "text": [
      "Enter n, m: 5 10\n",
      "initial vector:\n",
      "  [[3 1 1 2 0]\n",
      " [5 9 3 5 7]\n",
      " [6 8 7 0 7]\n",
      " [2 8 6 2 5]\n",
      " [4 8 8 3 6]]\n",
      "Modified vector\n",
      ":  [[ 3  1  1  2  0]\n",
      " [ 5 -9  3  5  7]\n",
      " [ 6  8  7  0  7]\n",
      " [ 2  8  6  2  5]\n",
      " [ 4  8  8  3  6]]\n"
     ]
    }
   ],
   "source": [
    "n, m = input(\"Enter n, m: \").split()\n",
    "arr = np.random.randint(0, int(m),(int(n),int(n)))\n",
    "print(\"initial matrix:\\n \",arr)\n",
    "arr[arr == np.max(arr)] = np.max(arr)*-1\n",
    "print(\"Modified matrix\\n: \", arr)"
   ]
  },
  {
   "cell_type": "code",
   "execution_count": 123,
   "metadata": {
    "scrolled": true
   },
   "outputs": [
    {
     "name": "stdout",
     "output_type": "stream",
     "text": [
      "[ 34  92 -72  20]\n",
      "[-1.49028206e+16  4.47084618e+16  3.72570515e+16 -1.49028206e+16]\n",
      "No solutions, because determinant equals  0\n"
     ]
    }
   ],
   "source": [
    "A = np.array([[4,1,0,-1],[1,-3,4,0],[0,3,-2,4],[1,0,2,4]], dtype=int)\n",
    "B = np.array([-9,7,12,12], dtype=int)\n",
    "\n",
    "det = np.linalg.det(A)\n",
    "temp_A = A.copy()\n",
    "temp_A[:, 0] =  B\n",
    "det_1 = np.linalg.det(temp_A)\n",
    "temp_A = A.copy()\n",
    "temp_A[:,1] = B\n",
    "det_2 = np.linalg.det(temp_A)\n",
    "temp_A = A.copy()\n",
    "temp_A[:,2] = B\n",
    "det_3 = np.linalg.det(temp_A)\n",
    "temp_A = A.copy()\n",
    "temp_A[:,3] = B\n",
    "det_4 = np.linalg.det(temp_A)\n",
    "X = np.array([round(det_1/det),round(det_2/det),round(det_3/det),round(det_4/det)])\n",
    "print(A.dot(X))\n",
    "print(np.round(np.linalg.solve(A, B),3))\n",
    "X\n",
    "print(\"No solutions, because determinant equals \", round(det))"
   ]
  },
  {
   "cell_type": "code",
   "execution_count": 125,
   "metadata": {},
   "outputs": [
    {
     "data": {
      "text/plain": [
       "array([[  20,   12,  -13],\n",
       "       [ -78, -163,  -12],\n",
       "       [  -3,    3,   13]])"
      ]
     },
     "execution_count": 125,
     "metadata": {},
     "output_type": "execute_result"
    }
   ],
   "source": [
    "A = np.array([[4,2,1],[3,-2,0],[0,1,2]], dtype=int)\n",
    "B = np.array([[2,0,2],[5,-7,-2],[1,0,-1]], dtype=int)\n",
    "3*(A**2 - B**2) - 2*A*B"
   ]
  },
  {
   "cell_type": "code",
   "execution_count": 127,
   "metadata": {},
   "outputs": [
    {
     "name": "stdout",
     "output_type": "stream",
     "text": [
      "X array:  [-2.73333333  4.76666667 -0.36666667]\n",
      "X array using linalg:  [-2.73333333  4.76666667 -0.36666667]\n",
      "Checking rightness using multiplication:  [ 1.  4. 16.]\n"
     ]
    }
   ],
   "source": [
    "#task_4\n",
    "coef_matrix = np.array([[5,3,-1],\n",
    "                       [-2,0,4],\n",
    "                       [3,5,-1]])\n",
    "b_matrix = np.array([1,4,16])\n",
    "inverse_matrix = np.linalg.inv(coef_matrix)\n",
    "x_matrix = inverse_matrix.dot(b_matrix)\n",
    "print(\"X array: \",x_matrix)\n",
    "print(\"X array using linalg: \", np.linalg.solve(coef_matrix,b_matrix))\n",
    "print(\"Checking rightness using multiplication: \", coef_matrix.dot(x_matrix))"
   ]
  },
  {
   "cell_type": "code",
   "execution_count": null,
   "metadata": {},
   "outputs": [],
   "source": []
  }
 ],
 "metadata": {
  "kernelspec": {
   "display_name": "Python 3",
   "language": "python",
   "name": "python3"
  },
  "language_info": {
   "codemirror_mode": {
    "name": "ipython",
    "version": 3
   },
   "file_extension": ".py",
   "mimetype": "text/x-python",
   "name": "python",
   "nbconvert_exporter": "python",
   "pygments_lexer": "ipython3",
   "version": "3.7.9"
  }
 },
 "nbformat": 4,
 "nbformat_minor": 4
}
