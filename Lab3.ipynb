{
 "cells": [
  {
   "cell_type": "code",
   "execution_count": 45,
   "metadata": {},
   "outputs": [
    {
     "name": "stdout",
     "output_type": "stream",
     "text": [
      "Problem:\n",
      "MAXIMIZE\n",
      "3*x1 + 5*x2 + 0\n",
      "SUBJECT TO\n",
      "_C1: 3 x1 + x2 <= 34\n",
      "\n",
      "_C2: x1 + 4 x2 <= 42\n",
      "\n",
      "_C3: 4 x1 + 5 x2 <= 60\n",
      "\n",
      "VARIABLES\n",
      "x1 Continuous\n",
      "x2 Continuous\n",
      "\n",
      "Optimal\n",
      "x1 =  2.7272727 , x2 =  9.8181818 , L =  57.2727271\n",
      "Time:  0.1923387050628662\n"
     ]
    }
   ],
   "source": [
    "import pulp as p \n",
    "import time\n",
    "\n",
    "start = time.time() \n",
    "# Create a LP Minimization problem \n",
    "Lp_prob = p.LpProblem('Problem', p.LpMaximize)  \n",
    "  \n",
    "# Create problem Variables  \n",
    "x1 = p.LpVariable(\"x1\", lowBound = 0)   # Create a variable x >= 0 \n",
    "x2 = p.LpVariable(\"x2\", lowBound = 0)   # Create a variable y >= 0 \n",
    "  \n",
    "# Objective Function \n",
    "Lp_prob += 3 * x1 + 5 * x2    \n",
    "  \n",
    "# Constraints: \n",
    "Lp_prob += 3 * x1 + 1 * x2 <= 34\n",
    "Lp_prob += 1 * x1 + 4 * x2 <= 42\n",
    "Lp_prob += 4 * x1 + 5 * x2 <= 60\n",
    "\n",
    "# Display the problem \n",
    "print(Lp_prob) \n",
    "  \n",
    "status = Lp_prob.solve()   # Solver \n",
    "print(p.LpStatus[status])   # The solution status \n",
    "  \n",
    "# Printing the final solution \n",
    "print(\"x1 = \",p.value(x1),\", x2 = \", p.value(x2),\", L = \", p.value(Lp_prob.objective)) \n",
    "stop = time.time()\n",
    "res2 =[p.value(x1),p.value(x2), p.value(Lp_prob.objective)*-1]\n",
    "print(\"Time: \",stop-start)"
   ]
  },
  {
   "cell_type": "code",
   "execution_count": 44,
   "metadata": {},
   "outputs": [
    {
     "name": "stdout",
     "output_type": "stream",
     "text": [
      "     con: array([], dtype=float64)\n",
      "     fun: -57.27272727272727\n",
      " message: 'Optimization terminated successfully.'\n",
      "     nit: 2\n",
      "   slack: array([16.,  0.,  0.])\n",
      "  status: 0\n",
      " success: True\n",
      "       x: array([2.72727273, 9.81818182])\n",
      "Time:  0.45488786697387695\n"
     ]
    },
    {
     "data": {
      "text/plain": [
       "array([  2.7272727,   9.8181818, -57.2727273])"
      ]
     },
     "execution_count": 44,
     "metadata": {},
     "output_type": "execute_result"
    }
   ],
   "source": [
    "from scipy.optimize import linprog\n",
    "import time\n",
    "\n",
    "start = time.time()\n",
    "c = [-3, -5]\n",
    "a = [[3, 1], [1, 4], [4, 5]]\n",
    "b = [34,42,60]\n",
    "x1_bounds = (0, None)\n",
    "x2_bounds = (0, None)\n",
    "res = linprog(c, A_ub = a, b_ub = b, bounds = [x1_bounds, x2_bounds], method = \"revised simplex\")\n",
    "print(res)\n",
    "stop = time.time()\n",
    "print(\"Time: \",stop-start)\n",
    "res1= res.x.round(7)\n",
    "l_value= res.fun.round(7)\n",
    "res1 = np.append(res1,l_value)\n",
    "res1"
   ]
  },
  {
   "cell_type": "code",
   "execution_count": 12,
   "metadata": {},
   "outputs": [
    {
     "name": "stdout",
     "output_type": "stream",
     "text": [
      "Allclose check: \n",
      "True\n"
     ]
    }
   ],
   "source": [
    "import numpy as  np\n",
    "print(\"Allclose check: \")\n",
    "print(np.allclose(np.array(res1),np.array(res2)))\n"
   ]
  },
  {
   "cell_type": "code",
   "execution_count": 43,
   "metadata": {},
   "outputs": [
    {
     "data": {
      "text/plain": [
       "''"
      ]
     },
     "execution_count": 43,
     "metadata": {},
     "output_type": "execute_result"
    },
    {
     "data": {
      "image/png": "[encoded data removed]",
      "text/plain": [
       "<Figure size 432x288 with 1 Axes>"
      ]
     },
     "metadata": {
      "needs_background": "light"
     },
     "output_type": "display_data"
    }
   ],
   "source": [
    "import numpy as np\n",
    "import matplotlib.pyplot as plt\n",
    "%matplotlib inline\n",
    "\n",
    "x = np.linspace(-20,200,5000)\n",
    "y1 = (34 - 3*x)/1.0\n",
    "y2 = (42 - 1*x)/4.0\n",
    "y3 = (60 - 4*x)/5.0\n",
    "L = (57.2727271-3*x)/5.0\n",
    " \n",
    "plt.plot(x, y1, label = r'$3y+x\\leq34$')\n",
    "plt.plot(x, y2, label = r'$y+4x\\leq42$')\n",
    "plt.plot(x, y3, label = r'$4y+5x\\leq60$')\n",
    "plt.plot(x, L, label = r'L: $3y+5x = 57.27$',linewidth=4, linestyle=':')\n",
    "plt.xlim(0,20)\n",
    "plt.ylim(0,15)\n",
    "plt.xlabel(r'$x$')\n",
    "plt.ylabel(r'$y$')\n",
    "plt.legend(bbox_to_anchor=(1.05, 1), loc=2, borderaxespad=0.)\n",
    "plt.plot(2.7273, 9.8182,'ro') \n",
    "plt.annotate(\"Max point\", (3, 10))\n",
    "plt.annotate(\"Feasible area\", (3,3))\n",
    "plt.fill_between(x, y1 ,0, color='grey', alpha=0.3)\n",
    "plt.fill_between(x, y2 ,0, color='grey', alpha=0.3)\n",
    "plt.fill_between(x, y3 ,0, color='grey', alpha=0.3)\n",
    ";"
   ]
  },
  {
   "cell_type": "code",
   "execution_count": 46,
   "metadata": {},
   "outputs": [
    {
     "name": "stdout",
     "output_type": "stream",
     "text": [
      "[[1 1 1 1 1 0 0 0 0 0 0 0 0 0 0 0 0 0 0 0]\n",
      " [0 0 0 0 0 1 1 1 1 1 0 0 0 0 0 0 0 0 0 0]\n",
      " [0 0 0 0 0 0 0 0 0 0 1 1 1 1 1 0 0 0 0 0]\n",
      " [0 0 0 0 0 0 0 0 0 0 0 0 0 0 0 1 1 1 1 1]\n",
      " [1 0 0 0 0 1 0 0 0 0 1 0 0 0 0 1 0 0 0 0]\n",
      " [0 1 0 0 0 0 1 0 0 0 0 1 0 0 0 0 1 0 0 0]\n",
      " [0 0 1 0 0 0 0 1 0 0 0 0 1 0 0 0 0 1 0 0]\n",
      " [0 0 0 1 0 0 0 0 1 0 0 0 0 1 0 0 0 0 1 0]\n",
      " [0 0 0 0 1 0 0 0 0 1 0 0 0 0 1 0 0 0 0 1]]\n",
      "[[ 0. 70. 15.  0.  0.]\n",
      " [90.  0.  0. 20.  0.]\n",
      " [ 0.  0. 55. 10.  0.]\n",
      " [ 0.  0.  0. 30. 50.]]\n",
      "     con: array([1.17464135e-06, 1.54171582e-06, 8.80980650e-07, 1.10122608e-06,\n",
      "       1.26273930e-06, 9.69078755e-07, 9.69078698e-07, 8.22248637e-07,\n",
      "       6.75418484e-07])\n",
      "     fun: 1555.0000513334746\n",
      " message: 'Optimization terminated successfully.'\n",
      "     nit: 7\n",
      "   slack: array([], dtype=float64)\n",
      "  status: 0\n",
      " success: True\n",
      "       x: array([5.94129700e-07, 6.99999965e+01, 1.49999998e+01, 1.12604563e-06,\n",
      "       8.56061250e-07, 8.99999967e+01, 4.79957304e-07, 1.02260925e-06,\n",
      "       1.99999985e+01, 1.72243430e-06, 1.03281354e-06, 9.24013313e-07,\n",
      "       5.49999968e+01, 1.00000004e+01, 1.57766491e-08, 3.93494754e-07,\n",
      "       1.14937181e-06, 1.45004871e-06, 2.99999992e+01, 4.99999967e+01])\n"
     ]
    },
    {
     "name": "stderr",
     "output_type": "stream",
     "text": [
      "D:\\ProgramFiles\\anaconda3\\envs\\labs\\lib\\site-packages\\ipykernel_launcher.py:22: OptimizeWarning: A_eq does not appear to be of full row rank. To improve performance, check the problem formulation for redundant equality constraints.\n"
     ]
    }
   ],
   "source": [
    "import numpy as np\n",
    "from scipy.optimize import linprog\n",
    "import time\n",
    "\n",
    "start = time.time()\n",
    "coefs = [16, 4, 7, 10, 15, 4, 5,11, 3, 10, 15, 12, 6, 5, 9, 10, 8, 12, 4, 5]\n",
    "zero_matrx = np.zeros(180, dtype=int)\n",
    "zeros = zero_matrx.reshape(9, 20)\n",
    "zeros[0, 0:5] = 1\n",
    "zeros[1, 5:10] = 1\n",
    "zeros[2, 10:15] = 1\n",
    "zeros[3, 15:20] = 1\n",
    "zeros[4, 0::5] = 1\n",
    "zeros[5, 1::5] = 1\n",
    "zeros[6, 2::5] = 1\n",
    "zeros[7, 3::5] = 1\n",
    "zeros[8, 4::5] = 1\n",
    "print(zeros)\n",
    "A = zeros\n",
    "b = [85, 110, 65, 80, 90, 70, 70, 60, 50]\n",
    "boundaries = [(0, int(1000))]*20\n",
    "res = linprog(coefs,A_eq=A, b_eq=b, bounds=boundaries)\n",
    "print(res.x.reshape(4,5).round())\n",
    "print(res)\n",
    "stop = time.time()"
   ]
  },
  {
   "cell_type": "code",
   "execution_count": null,
   "metadata": {},
   "outputs": [],
   "source": []
  }
 ],
 "metadata": {
  "kernelspec": {
   "display_name": "Python 3",
   "language": "python",
   "name": "python3"
  },
  "language_info": {
   "codemirror_mode": {
    "name": "ipython",
    "version": 3
   },
   "file_extension": ".py",
   "mimetype": "text/x-python",
   "name": "python",
   "nbconvert_exporter": "python",
   "pygments_lexer": "ipython3",
   "version": "3.7.9"
  }
 },
 "nbformat": 4,
 "nbformat_minor": 4
}
